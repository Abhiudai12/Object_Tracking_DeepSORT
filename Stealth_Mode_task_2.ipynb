{
  "nbformat": 4,
  "nbformat_minor": 0,
  "metadata": {
    "colab": {
      "provenance": [],
      "gpuType": "T4"
    },
    "kernelspec": {
      "name": "python3",
      "display_name": "Python 3"
    },
    "language_info": {
      "name": "python"
    },
    "accelerator": "GPU"
  },
  "cells": [
    {
      "cell_type": "code",
      "source": [
        "!pip install -q ultralytics gdown filterpy lap deep_sort_realtime easyocr tqdm"
      ],
      "metadata": {
        "id": "P3UrfTEKpIsM"
      },
      "execution_count": null,
      "outputs": []
    },
    {
      "cell_type": "code",
      "source": [
        "import cv2\n",
        "import numpy as np\n",
        "import torch\n",
        "from tqdm import tqdm\n",
        "import easyocr\n",
        "from collections import defaultdict, deque\n",
        "from ultralytics import YOLO\n",
        "from deep_sort_realtime.deepsort_tracker import DeepSort\n",
        "from filterpy.kalman import KalmanFilter\n",
        "import math# Download files\n",
        "gdown.download(id=\"1-5fOSHOSB9UXyP_enOoZNAMScrePVcMD\", output=\"best.pt\", quiet=False)\n",
        "gdown.download(id=\"1TDcND31fvEDvcnZCaianTxJrmT8q7iIi\", output=\"15sec_input_720p.mp4\", quiet=False)\n",
        "\n",
        "device = 'cuda' if torch.cuda.is_available() else 'cpu'\n",
        "print(\"Using device:\", device)\n",
        "\n",
        "# Load YOLOv11 model\n",
        "model = YOLO(\"best.pt\").to(device)"
      ],
      "metadata": {
        "colab": {
          "base_uri": "https://localhost:8080/"
        },
        "id": "XlAjFj1bpjY4",
        "outputId": "8ed35674-689f-4d32-c76d-0de704ab2778"
      },
      "execution_count": 5,
      "outputs": [
        {
          "output_type": "stream",
          "name": "stderr",
          "text": [
            "Downloading...\n",
            "From (original): https://drive.google.com/uc?id=1-5fOSHOSB9UXyP_enOoZNAMScrePVcMD\n",
            "From (redirected): https://drive.google.com/uc?id=1-5fOSHOSB9UXyP_enOoZNAMScrePVcMD&confirm=t&uuid=e03388ca-e4fe-4426-8515-bba605e4c0e3\n",
            "To: /content/best.pt\n",
            "100%|██████████| 195M/195M [00:00<00:00, 259MB/s]\n",
            "Downloading...\n",
            "From: https://drive.google.com/uc?id=1TDcND31fvEDvcnZCaianTxJrmT8q7iIi\n",
            "To: /content/15sec_input_720p.mp4\n",
            "100%|██████████| 5.18M/5.18M [00:00<00:00, 61.2MB/s]\n"
          ]
        },
        {
          "output_type": "stream",
          "name": "stdout",
          "text": [
            "Using device: cuda\n"
          ]
        }
      ]
    },
    {
      "cell_type": "code",
      "source": [
        "def process_video(input_path, output_path):\n",
        "    # Initialize models\n",
        "    device = 'cuda' if torch.cuda.is_available() else 'cpu'\n",
        "    print(\"Using device:\", device)\n",
        "\n",
        "    # Load YOLO model\n",
        "    model = YOLO(\"best.pt\").to(device)\n",
        "\n",
        "    # Initialize tracker\n",
        "    tracker = DeepSort(max_age=30, n_init=3)\n",
        "\n",
        "    # Initialize OCR reader\n",
        "    ocr_reader = easyocr.Reader(['en'])\n",
        "\n",
        "    # Data structures\n",
        "    track_history = defaultdict(lambda: deque(maxlen=10))\n",
        "    jersey_map = {}  # Maps track_id to jersey number\n",
        "    last_ocr_frame = defaultdict(int)\n",
        "\n",
        "    # Video setup\n",
        "    cap = cv2.VideoCapture(input_path)\n",
        "    fps = cap.get(cv2.CAP_PROP_FPS)\n",
        "    width = int(cap.get(cv2.CAP_PROP_FRAME_WIDTH))\n",
        "    height = int(cap.get(cv2.CAP_PROP_FRAME_HEIGHT))\n",
        "    fourcc = cv2.VideoWriter_fourcc(*'mp4v')\n",
        "    out = cv2.VideoWriter(output_path, fourcc, fps, (width, height))\n",
        "\n",
        "    frame_count = 0\n",
        "    pbar = tqdm(total=int(cap.get(cv2.CAP_PROP_FRAME_COUNT)), desc=\"Processing video\")\n",
        "\n",
        "    while cap.isOpened():\n",
        "        ret, frame = cap.read()\n",
        "        if not ret:\n",
        "            break\n",
        "\n",
        "        # Run detection\n",
        "        results = model(frame, verbose=False)[0]\n",
        "        boxes = results.boxes.xyxy.cpu().numpy()\n",
        "        classes = results.boxes.cls.cpu().numpy()\n",
        "        confs = results.boxes.conf.cpu().numpy()\n",
        "\n",
        "        # Filter detections (only players with high confidence and reasonable size)\n",
        "        detections = []\n",
        "        for (x1, y1, x2, y2), conf, cls in zip(boxes, confs, classes):\n",
        "            if int(cls) == 2 and conf > 0.7 and (x2 - x1) * (y2 - y1) > 1000:\n",
        "                detections.append(([x1, y1, x2 - x1, y2 - y1], conf, 'player'))\n",
        "\n",
        "        # Update tracker\n",
        "        tracks = tracker.update_tracks(detections, frame=frame)\n",
        "\n",
        "        # Process tracks\n",
        "        for track in tracks:\n",
        "            if not track.is_confirmed():\n",
        "                continue\n",
        "\n",
        "            track_id = int(track.track_id)\n",
        "            x1, y1, x2, y2 = map(int, track.to_ltrb())\n",
        "            cx, cy = (x1 + x2) // 2, (y1 + y2) // 2\n",
        "\n",
        "            # Movement validation\n",
        "            if track_id in track_history and len(track_history[track_id]) > 0:\n",
        "                prev_cx, prev_cy = track_history[track_id][-1]\n",
        "                dx, dy = abs(cx - prev_cx), abs(cy - prev_cy)\n",
        "                if dx > 100 or dy > 50:  # Skip implausible jumps\n",
        "                    continue\n",
        "\n",
        "            track_history[track_id].append((cx, cy))\n",
        "\n",
        "            # Optimized OCR (run only every 15 frames for each track)\n",
        "            if (track_id not in jersey_map) and (frame_count - last_ocr_frame.get(track_id, 0) > 15):\n",
        "                try:\n",
        "                    torso_region = frame[y1:y1 + int(0.5*(y2-y1)), x1:x2]\n",
        "                    ocr_results = ocr_reader.readtext(torso_region, allowlist='0123456789')\n",
        "\n",
        "                    # Filter OCR results (must be 1-2 digit number with high confidence)\n",
        "                    for result in ocr_results:\n",
        "                        text = result[1].strip()\n",
        "                        if (text.isdigit() and\n",
        "                            1 <= int(text) <= 99 and\n",
        "                            result[2] > 0.7 and\n",
        "                            len(text) <= 2):\n",
        "                            jersey_map[track_id] = text\n",
        "                            last_ocr_frame[track_id] = frame_count\n",
        "                            break\n",
        "                except:\n",
        "                    pass\n",
        "\n",
        "            # Draw bounding box and label\n",
        "            color = (0, 255, 0) if track_id in jersey_map else (0, 0, 255)\n",
        "            label = f\"#{jersey_map[track_id]}\" if track_id in jersey_map else f\"ID:{track_id}\"\n",
        "\n",
        "            cv2.rectangle(frame, (x1, y1), (x2, y2), color, 2)\n",
        "            cv2.putText(frame, label, (x1, y1 - 10),\n",
        "                       cv2.FONT_HERSHEY_SIMPLEX, 0.7, color, 2)\n",
        "\n",
        "        # Write frame\n",
        "        out.write(frame)\n",
        "        frame_count += 1\n",
        "        pbar.update(1)\n",
        "\n",
        "    pbar.close()\n",
        "    cap.release()\n",
        "    out.release()\n",
        "\n",
        "    # Print summary\n",
        "    print(\"\\nPlayer Jersey Number Mapping:\")\n",
        "    for track_id, jersey in jersey_map.items():\n",
        "        print(f\"Track ID {track_id} -> Jersey #{jersey}\")\n",
        "\n",
        "# Process the video\n",
        "process_video(\"15sec_input_720p.mp4\", \"output_tracking.mp4\")"
      ],
      "metadata": {
        "colab": {
          "base_uri": "https://localhost:8080/"
        },
        "id": "C0oKlBC_o9Kc",
        "outputId": "ce619267-a971-4789-db6f-f9de60945ca6"
      },
      "execution_count": 7,
      "outputs": [
        {
          "output_type": "stream",
          "name": "stdout",
          "text": [
            "Using device: cuda\n"
          ]
        },
        {
          "output_type": "stream",
          "name": "stderr",
          "text": [
            "Processing video: 100%|██████████| 375/375 [01:56<00:00,  3.21it/s]"
          ]
        },
        {
          "output_type": "stream",
          "name": "stdout",
          "text": [
            "\n",
            "Player Jersey Number Mapping:\n",
            "Track ID 13 -> Jersey #28\n",
            "Track ID 45 -> Jersey #10\n",
            "Track ID 50 -> Jersey #13\n",
            "Track ID 55 -> Jersey #52\n",
            "Track ID 52 -> Jersey #6\n",
            "Track ID 105 -> Jersey #5\n",
            "Track ID 141 -> Jersey #08\n",
            "Track ID 149 -> Jersey #10\n",
            "Track ID 87 -> Jersey #10\n",
            "Track ID 168 -> Jersey #2\n",
            "Track ID 159 -> Jersey #57\n"
          ]
        },
        {
          "output_type": "stream",
          "name": "stderr",
          "text": [
            "\n"
          ]
        }
      ]
    }
  ]
}